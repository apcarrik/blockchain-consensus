{
 "cells": [
  {
   "cell_type": "markdown",
   "metadata": {},
   "source": [
    "Problem 3"
   ]
  },
  {
   "cell_type": "code",
   "execution_count": 3,
   "metadata": {},
   "outputs": [],
   "source": [
    "import math\n",
    "\n",
    "k_max = 20\n",
    "bs = [0.3, 0.45]\n",
    "\n",
    "def attackerSuccessProbability(q,z):\n",
    "    p = 1.0-q\n",
    "    lam = z*(q/p)\n",
    "    sum = 1\n",
    "    for k in range(0,z+1):\n",
    "        poission = math.exp(-lam)\n",
    "        for i in range(1,k+1):\n",
    "            poission *= lam/i\n",
    "        delta = poission * (1-(q/p)**(z-k))\n",
    "        sum -= delta if delta>0 else 0\n",
    "    return sum\n",
    "        \n",
    "# Ensure attackerSuccessProbability works as expected\n",
    "def test_attackerSuccessProbability():\n",
    "    qs=[0.1,0.3]\n",
    "    lzs = [\n",
    "        range(0,10),\n",
    "        range(0,50,5)\n",
    "    ]\n",
    "    lps = [\n",
    "        [\n",
    "            1.0000000,\n",
    "            0.2045873,\n",
    "            0.0509779,\n",
    "            0.0131722,\n",
    "            0.0034552,\n",
    "            0.0009137,\n",
    "            0.0002428,\n",
    "            0.0000647,\n",
    "            0.0000173,\n",
    "            0.0000046,\n",
    "            0.0000012\n",
    "        ],\n",
    "        [\n",
    "            1.0000000,\n",
    "            0.1773523,\n",
    "            0.0416605,\n",
    "            0.0101008,\n",
    "            0.0024804,\n",
    "            0.0006132,\n",
    "            0.0001522,\n",
    "            0.0000379,\n",
    "            0.0000095,\n",
    "            0.0000024,\n",
    "            0.0000006\n",
    "        ]\n",
    "    ]\n",
    "    for q,zs,ps in zip(qs,lzs,lps):\n",
    "        for z,p in zip(zs,ps):\n",
    "            tmp = attackerSuccessProbability(q,z)\n",
    "            if(tmp < p*0.95 or tmp > p*1.05):\n",
    "                print(f\"Error: for q={q} and z={z} got P={tmp}, expected P={p}\")\n",
    "                \n",
    "test_attackerSuccessProbability()\n"
   ]
  },
  {
   "cell_type": "markdown",
   "metadata": {},
   "source": [
    "Private Attack Calculations"
   ]
  },
  {
   "cell_type": "code",
   "execution_count": 8,
   "metadata": {},
   "outputs": [
    {
     "name": "stdout",
     "output_type": "stream",
     "text": [
      "k\t| β = 0.3  | β = 0.45\n",
      "---------------------------\n",
      "5\t| 0.03133  | 0.66777\n",
      "10\t| 0.00762  | 0.58970\n",
      "15\t| 0.00187  | 0.52429\n",
      "20\t| 0.00046  | 0.46812\n"
     ]
    }
   ],
   "source": [
    "ks = [5,10,15,20]\n",
    "ks_mod = [k+6 for k in ks] # add 6 to block since block is confirmed\n",
    "betas = [0.3,0.45]\n",
    "probabilities = [[],[]]\n",
    "\n",
    "\n",
    "for b, beta in enumerate(betas):\n",
    "    for k in ks_mod:\n",
    "        probabilities[b].append(attackerSuccessProbability(beta,k))\n",
    "\n",
    "# print output\n",
    "print(f'k\\t| β = {betas[0]}  | β = {betas[1]}')\n",
    "print('---------------------------')\n",
    "for i,k in enumerate(ks):\n",
    "    print(f'{k}\\t| {probabilities[0][i]:.5f}  | {probabilities[1][i]:.5f}')"
   ]
  },
  {
   "cell_type": "markdown",
   "metadata": {},
   "source": [
    "Adding Adversary Delay Advantage"
   ]
  },
  {
   "cell_type": "code",
   "execution_count": 9,
   "metadata": {},
   "outputs": [
    {
     "name": "stdout",
     "output_type": "stream",
     "text": [
      "k\t| β = 0.39  | β = 0.59\n",
      "---------------------------\n",
      "5\t| 0.27815   | 1.00000\n",
      "10\t| 0.17383   | 1.00000\n",
      "15\t| 0.10977   | 1.00000\n",
      "20\t| 0.06973   | 1.00000\n"
     ]
    }
   ],
   "source": [
    "betas_new = [beta*1.3 for beta in betas]\n",
    "probabilities = [[],[]]\n",
    "\n",
    "for b, beta in enumerate(betas_new):\n",
    "    for k in ks_mod:\n",
    "        probabilities[b].append(attackerSuccessProbability(beta,k))\n",
    "\n",
    "# print output\n",
    "print(f'k\\t| β = {betas_new[0]:.2f}  | β = {betas_new[1]:.2f}')\n",
    "print('---------------------------')\n",
    "for i,k in enumerate(ks):\n",
    "    print(f'{k}\\t| {probabilities[0][i]:.5f}   | {probabilities[1][i]:.5f}')\n"
   ]
  },
  {
   "cell_type": "code",
   "execution_count": null,
   "metadata": {},
   "outputs": [],
   "source": []
  }
 ],
 "metadata": {
  "kernelspec": {
   "display_name": "Python 3",
   "language": "python",
   "name": "python3"
  },
  "language_info": {
   "codemirror_mode": {
    "name": "ipython",
    "version": 3
   },
   "file_extension": ".py",
   "mimetype": "text/x-python",
   "name": "python",
   "nbconvert_exporter": "python",
   "pygments_lexer": "ipython3",
   "version": "3.8.3"
  }
 },
 "nbformat": 4,
 "nbformat_minor": 4
}
